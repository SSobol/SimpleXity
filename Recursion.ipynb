{
 "cells": [
  {
   "cell_type": "markdown",
   "metadata": {},
   "source": [
    "# Dynamic Programming - Recursion"
   ]
  },
  {
   "cell_type": "markdown",
   "metadata": {},
   "source": [
    "In short dynamic programming is an approach for solving a problem through a process of iterative simplification as opposed to a robustly defined series of steps. A most common dynamic programming approach is recursion - having a function calling itself."
   ]
  },
  {
   "cell_type": "markdown",
   "metadata": {},
   "source": [
    "## Example. \n",
    "Find a prime decomposition of a positive integer as a list of prime divisors with respect to multiplicity. E.g. for n=12, the decomposition is [2,2,3]."
   ]
  },
  {
   "cell_type": "markdown",
   "metadata": {},
   "source": [
    "Sounds like a somewhat complex approach is needed here. At least we are unlikely to manage it with a single loop. Or can we?"
   ]
  },
  {
   "cell_type": "code",
   "execution_count": 1,
   "metadata": {},
   "outputs": [],
   "source": [
    "def prime_decomposition(n): #define a function to return prime decomposition of n s\n",
    "    for p in range(2,int(n**0.5)+1): #implement a loop to find the first divisor\n",
    "    #enough to search until until int(sqrt(n)) \n",
    "    #as if any divisor p is higher than that then n//p is also a divisor lower than int(sqrt(n))\n",
    "        if n % p == 0: #check if p is a divisor\n",
    "            #return p in addition to the list of divisors of n/p\n",
    "             return [p] + prime_decomposition(n//p)\n",
    "        #if the function survives the entire loop without finding a single divisor\n",
    "    return [n] #in this case n is the only divisor of n, so return [n]"
   ]
  },
  {
   "cell_type": "code",
   "execution_count": 2,
   "metadata": {},
   "outputs": [
    {
     "data": {
      "text/plain": [
       "[2, 5]"
      ]
     },
     "execution_count": 2,
     "metadata": {},
     "output_type": "execute_result"
    }
   ],
   "source": [
    "#let's check it out\n",
    "prime_decomposition(10)"
   ]
  },
  {
   "cell_type": "code",
   "execution_count": 3,
   "metadata": {},
   "outputs": [
    {
     "data": {
      "text/plain": [
       "[2, 2, 5, 5]"
      ]
     },
     "execution_count": 3,
     "metadata": {},
     "output_type": "execute_result"
    }
   ],
   "source": [
    "prime_decomposition(100)"
   ]
  },
  {
   "cell_type": "code",
   "execution_count": 4,
   "metadata": {},
   "outputs": [
    {
     "data": {
      "text/plain": [
       "[2, 2, 2, 3, 5]"
      ]
     },
     "execution_count": 4,
     "metadata": {},
     "output_type": "execute_result"
    }
   ],
   "source": [
    "prime_decomposition(120)"
   ]
  },
  {
   "cell_type": "code",
   "execution_count": 5,
   "metadata": {},
   "outputs": [
    {
     "data": {
      "text/plain": [
       "[3, 5, 823]"
      ]
     },
     "execution_count": 5,
     "metadata": {},
     "output_type": "execute_result"
    }
   ],
   "source": [
    "prime_decomposition(12345)"
   ]
  },
  {
   "cell_type": "code",
   "execution_count": 6,
   "metadata": {},
   "outputs": [
    {
     "data": {
      "text/plain": [
       "[2, 3, 3, 5, 3607, 3803]"
      ]
     },
     "execution_count": 6,
     "metadata": {},
     "output_type": "execute_result"
    }
   ],
   "source": [
    "prime_decomposition(1234567890)"
   ]
  },
  {
   "cell_type": "markdown",
   "metadata": {},
   "source": [
    "Why would it ever work? First, notice that every recursive call of prime_decomposition has an argument n//p which is always smaller than n used in the previous call. So this recursive sequence won't last forever but will apparently reach a number for which the function won't be able to find any further divisors and will return this number itself. And that's where the recusrive chain will start returning the output, adding more prime devisors as it goes, until it returns to the initial functional call and exits it returning the final accumulated list. And if you are wondering why all the divisors are prime - that's because before finding any non-prime divisor p of n, the loop will find prime divisors of p, smaller than p also being divisors of n."
   ]
  },
  {
   "cell_type": "markdown",
   "metadata": {},
   "source": [
    "Actually every time we see a complex problem which is difficult to solve right away, a good thing to consider is if we can actually solve it if we are given the solution for it in a somewhat smaller setup, e.g. for a smaller number of input parameter. And if so - recursion might be a way to go!"
   ]
  },
  {
   "cell_type": "code",
   "execution_count": null,
   "metadata": {},
   "outputs": [],
   "source": []
  }
 ],
 "metadata": {
  "kernelspec": {
   "display_name": "Python 3",
   "language": "python",
   "name": "python3"
  },
  "language_info": {
   "codemirror_mode": {
    "name": "ipython",
    "version": 3
   },
   "file_extension": ".py",
   "mimetype": "text/x-python",
   "name": "python",
   "nbconvert_exporter": "python",
   "pygments_lexer": "ipython3",
   "version": "3.7.4"
  }
 },
 "nbformat": 4,
 "nbformat_minor": 2
}
