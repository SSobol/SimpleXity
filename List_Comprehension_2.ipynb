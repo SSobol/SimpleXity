{
 "cells": [
  {
   "cell_type": "markdown",
   "metadata": {},
   "source": [
    "# List comprehensions-2"
   ]
  },
  {
   "cell_type": "markdown",
   "metadata": {},
   "source": [
    "Consider some extensions to the basic list comprehension syntax, allowing to use it for much more sophisticated tasks. \n",
    "\n",
    "## Example. \n",
    "Count the number of integer points (namely points with integer coordinates) inside a circle of radius 20"
   ]
  },
  {
   "cell_type": "markdown",
   "metadata": {},
   "source": [
    "<img src='ListComprehensions2_circle.png' style='width:600px;height:600px;float:left'>"
   ]
  },
  {
   "cell_type": "code",
   "execution_count": 1,
   "metadata": {},
   "outputs": [],
   "source": [
    "r=20 #specify the radius"
   ]
  },
  {
   "cell_type": "code",
   "execution_count": 2,
   "metadata": {},
   "outputs": [],
   "source": [
    "#note that x,y inside the circle need to satisfy a condition x**2+y**2<=r**2\n",
    "#with that they can range within -r..r each"
   ]
  },
  {
   "cell_type": "code",
   "execution_count": 3,
   "metadata": {},
   "outputs": [],
   "source": [
    "#traditional loop\n",
    "points=[]\n",
    "for x in range(-r,r+1): #consider all possible x,y\n",
    "    for y in range(-r,r+1):\n",
    "        if x**2+y**2<=r**2: #make sure the point is inside the circle\n",
    "            points+=[(x,y)] #add the point"
   ]
  },
  {
   "cell_type": "code",
   "execution_count": 4,
   "metadata": {},
   "outputs": [
    {
     "data": {
      "text/plain": [
       "1257"
      ]
     },
     "execution_count": 4,
     "metadata": {},
     "output_type": "execute_result"
    }
   ],
   "source": [
    "len(points) #number of points"
   ]
  },
  {
   "cell_type": "code",
   "execution_count": 5,
   "metadata": {},
   "outputs": [],
   "source": [
    "points=[(x,y) for x in range(-r,r+1) for y in range(-r,r+1) if x**2+y**2<=r**2] #list comprehension"
   ]
  },
  {
   "cell_type": "code",
   "execution_count": 6,
   "metadata": {},
   "outputs": [
    {
     "data": {
      "text/plain": [
       "1257"
      ]
     },
     "execution_count": 6,
     "metadata": {},
     "output_type": "execute_result"
    }
   ],
   "source": [
    "len(points)"
   ]
  },
  {
   "cell_type": "markdown",
   "metadata": {},
   "source": [
    "So we got the answer. Does this number actually tell us anything? Can we check if this number is correct?\n",
    "\n",
    "Notice that the number of integer points inside a shape can serve as a Monte-Carlo approximation of the shape's area since each of such integer points basically covers a unit area. Most of those area are completely inside the shape, some of those near the borderline - only partly, but those are minority. So the number of points approximate the number of unit areas inside the shape, which is the shape area. "
   ]
  },
  {
   "cell_type": "markdown",
   "metadata": {},
   "source": [
    "Now estimate the true area of the circle using a well know formulae - pi\n",
    "R**2"
   ]
  },
  {
   "cell_type": "code",
   "execution_count": 7,
   "metadata": {},
   "outputs": [
    {
     "data": {
      "text/plain": [
       "1256.6370614359173"
      ]
     },
     "execution_count": 7,
     "metadata": {},
     "output_type": "execute_result"
    }
   ],
   "source": [
    "import math\n",
    "math.pi*r**2"
   ]
  },
  {
   "cell_type": "markdown",
   "metadata": {},
   "source": [
    "So with 1257 points, we are actually as close as we could be with an integer approximation"
   ]
  },
  {
   "cell_type": "markdown",
   "metadata": {},
   "source": [
    "Now getting back to the list comprehensions, we just learned how to construct complex lists using nested loops and conditional statements inside the list definition."
   ]
  },
  {
   "cell_type": "code",
   "execution_count": null,
   "metadata": {},
   "outputs": [],
   "source": []
  }
 ],
 "metadata": {
  "kernelspec": {
   "display_name": "Python 3",
   "language": "python",
   "name": "python3"
  },
  "language_info": {
   "codemirror_mode": {
    "name": "ipython",
    "version": 3
   },
   "file_extension": ".py",
   "mimetype": "text/x-python",
   "name": "python",
   "nbconvert_exporter": "python",
   "pygments_lexer": "ipython3",
   "version": "3.7.4"
  }
 },
 "nbformat": 4,
 "nbformat_minor": 2
}
