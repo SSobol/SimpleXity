{
 "cells": [
  {
   "cell_type": "markdown",
   "metadata": {},
   "source": [
    "# Dictionaries in Python"
   ]
  },
  {
   "cell_type": "markdown",
   "metadata": {},
   "source": [
    "Dictionaries are among the most \"Pythonic\" constructs making Python coding so convenient and distinctive from many other languages. While arrays and lists can be seen as mappings, transforming non-negative integer indices into the list elements, dictionaries take it one step further implementing custom mappings or correspondences between arbitrary entities of almost any type."
   ]
  },
  {
   "cell_type": "markdown",
   "metadata": {},
   "source": [
    "For example consider a mapping between state abbreviations and full state names"
   ]
  },
  {
   "cell_type": "code",
   "execution_count": 1,
   "metadata": {},
   "outputs": [],
   "source": [
    "#we can implement it as a dictionary, defining a set of mapping rules between state abbreviations as dictionary keys and state names as values\n",
    "sname={'NY':'New York','NJ':'New Jersey'}"
   ]
  },
  {
   "cell_type": "code",
   "execution_count": 2,
   "metadata": {},
   "outputs": [],
   "source": [
    "#rule for a new key\n",
    "sname['CT']='Connecticut'"
   ]
  },
  {
   "cell_type": "code",
   "execution_count": 3,
   "metadata": {},
   "outputs": [],
   "source": [
    "#now if we have an abbreviation we can get a value \n",
    "#using a syntax similar to indexing a list or array, but now index does not have to be integer, but can be a key of any type for which we defined a mapping rule\n",
    "sname['NY']"
   ]
  },
  {
   "cell_type": "code",
   "execution_count": 4,
   "metadata": {},
   "outputs": [],
   "source": [
    "#alternatively we can use a method get\n",
    "sname.get('NY')"
   ]
  },
  {
   "cell_type": "markdown",
   "metadata": {},
   "source": [
    "Now if we have a list of key values being state abbreviations we can use a dictionary's get method to map it to a list of values"
   ]
  },
  {
   "cell_type": "code",
   "execution_count": 5,
   "metadata": {},
   "outputs": [],
   "source": [
    "states=['NY','CT','NJ','NY']"
   ]
  },
  {
   "cell_type": "code",
   "execution_count": 6,
   "metadata": {},
   "outputs": [
    {
     "data": {
      "text/plain": [
       "['New York', 'Connecticut', 'New Jersey', 'New York']"
      ]
     },
     "execution_count": 6,
     "metadata": {},
     "output_type": "execute_result"
    }
   ],
   "source": [
    "list(map(sname.get,states))"
   ]
  },
  {
   "cell_type": "code",
   "execution_count": 7,
   "metadata": {},
   "outputs": [
    {
     "data": {
      "text/plain": [
       "['New York', 'Connecticut', 'New Jersey', 'New York']"
      ]
     },
     "execution_count": 7,
     "metadata": {},
     "output_type": "execute_result"
    }
   ],
   "source": [
    "#or alternatively we can use list comprehension syntax\n",
    "[sname[s] for s in states]"
   ]
  },
  {
   "cell_type": "markdown",
   "metadata": {},
   "source": [
    "Utility of the dictionaries goes way beyond defining such simple mappings. Actually they have numerous applications; just to give an example dictionaries can be used as a convenient structure for data accumulation."
   ]
  },
  {
   "cell_type": "markdown",
   "metadata": {},
   "source": [
    "**Example.** We have a list of tuples describing events of sales of goods accross different states. Use a dictionary to aggregate those sales per state, while keep identifying states by their abbreviations."
   ]
  },
  {
   "cell_type": "code",
   "execution_count": 8,
   "metadata": {},
   "outputs": [],
   "source": [
    "sales=[('NY',1000),('NJ',500),('NY',500),('CT',300),('NY',300),('NJ',800)]"
   ]
  },
  {
   "cell_type": "code",
   "execution_count": 9,
   "metadata": {},
   "outputs": [],
   "source": [
    "totals={} #start with an empty dictionary\n",
    "for s,a in sales: #and for each sale event\n",
    "    totals[s]=totals.get(s,0)+a #take the current total sales value (or 0 if no sales recorded so far) and add a new sales amount"
   ]
  },
  {
   "cell_type": "code",
   "execution_count": 10,
   "metadata": {},
   "outputs": [
    {
     "data": {
      "text/plain": [
       "{'NY': 1800, 'NJ': 1300, 'CT': 300}"
      ]
     },
     "execution_count": 10,
     "metadata": {},
     "output_type": "execute_result"
    }
   ],
   "source": [
    "totals #here is the resulting aggrehation"
   ]
  },
  {
   "cell_type": "code",
   "execution_count": 11,
   "metadata": {},
   "outputs": [
    {
     "data": {
      "text/plain": [
       "{'New York': 1800, 'New Jersey': 1300, 'Connecticut': 300}"
      ]
     },
     "execution_count": 11,
     "metadata": {},
     "output_type": "execute_result"
    }
   ],
   "source": [
    "#and if we want the states to be identified their full names\n",
    "#we can use our old dictionary sname to convert the keys in this dictionary\n",
    "#for that create a new using dictionary comprehension (recall list comprehension)\n",
    "{sname[k]:totals[k] for k in totals.keys()}"
   ]
  },
  {
   "cell_type": "code",
   "execution_count": null,
   "metadata": {},
   "outputs": [],
   "source": []
  }
 ],
 "metadata": {
  "kernelspec": {
   "display_name": "Python 3",
   "language": "python",
   "name": "python3"
  },
  "language_info": {
   "codemirror_mode": {
    "name": "ipython",
    "version": 3
   },
   "file_extension": ".py",
   "mimetype": "text/x-python",
   "name": "python",
   "nbconvert_exporter": "python",
   "pygments_lexer": "ipython3",
   "version": "3.7.4"
  }
 },
 "nbformat": 4,
 "nbformat_minor": 2
}
